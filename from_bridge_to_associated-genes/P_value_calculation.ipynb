{
 "cells": [
  {
   "cell_type": "code",
   "execution_count": null,
   "id": "72bc7a4f-514e-4b40-9efb-1b2a504fd2b8",
   "metadata": {},
   "outputs": [],
   "source": [
    "import os\n",
    "import random\n",
    "import numpy as np\n",
    "import pandas as pd\n",
    "from math import log\n",
    "import multiprocessing as mp\n",
    "from scipy.stats import mannwhitneyu"
   ]
  },
  {
   "cell_type": "markdown",
   "id": "afd5271d-001b-4c91-b924-38f1cca8d7c6",
   "metadata": {
    "tags": []
   },
   "source": [
    "# 1. Import data:\n",
    "## 1.1 one excel file with two sheets, containing data from four mice of one experiment:\n",
    "#### ------ Matrix: \n",
    "       * gene expression data, processed by 1) cellranger aggr; 2) removal of low quality cells; 3) log2(TPM+1) normalization; 4) retaining genes with >= 3UMI in >= 5% cells\n",
    "       * row index is cellular ID tagged with mouse ID; column index is gene ENSEMBL ID\n",
    "#### ------ Bridge:\n",
    "       * molecular bridge information obtained from processing of PacBio data\n",
    "       * row index is the same as the Matrix sheet, column is \"TBCID\", i.e., tracking barcode"
   ]
  },
  {
   "cell_type": "code",
   "execution_count": null,
   "id": "abd1aaaf-03c3-4290-b4d3-8e4f380aa5d8",
   "metadata": {},
   "outputs": [],
   "source": [
    "with pd.ExcelFile('inputs/pooled_matrix_and_bridge.xlsx') as xls:\n",
    "    matrix = pd.read_excel(xls, sheet_name='Matrix', index_col=0, header=0)\n",
    "    bridge = pd.read_excel(xls, sheet_name='Bridge', index_col=0, header=0)\n",
    "print(matrix.shape, bridge.shape)"
   ]
  },
  {
   "cell_type": "markdown",
   "id": "c339422d-0175-47d3-a233-fbfbdd685ce7",
   "metadata": {},
   "source": [
    "## 1.2 cellular engraftment:\n",
    "        * HSC activities measured by tracking barcode abundance in different cell populations\n",
    "        * processed using methods described in Bramlett et al 2019 Nature Prot."
   ]
  },
  {
   "cell_type": "markdown",
   "id": "a75dbe8f-4ace-4c11-87bf-e4ccc11ecfba",
   "metadata": {},
   "source": [
    "will be imported later on when needed"
   ]
  },
  {
   "cell_type": "markdown",
   "id": "9880eac4-ff45-48a0-87a3-8de86d76629d",
   "metadata": {},
   "source": [
    "## 1.3 gene vocabulary:\n",
    "        * stores gene name and gene ENSEMBL ID"
   ]
  },
  {
   "cell_type": "code",
   "execution_count": null,
   "id": "196bb0d4-476c-476d-9f19-6f0b36e81ef2",
   "metadata": {},
   "outputs": [],
   "source": [
    "gene_vocabulary = pd.read_csv('inputs/gene_vocabulary.csv', index_col=None, header=0)\n",
    "print('Number of genes:', len(gene_vocabulary.index))"
   ]
  },
  {
   "cell_type": "markdown",
   "id": "eb586eff-07b0-484f-809b-89652de61639",
   "metadata": {},
   "source": [
    "# 2. Create scramble controls"
   ]
  },
  {
   "cell_type": "code",
   "execution_count": null,
   "id": "2d8482eb-78bf-4627-a651-4f63ab2398d9",
   "metadata": {},
   "outputs": [],
   "source": [
    "tbcids = list(set(bridge['TBCID'].values))\n",
    "for i in range(100):\n",
    "    frame = pd.DataFrame(columns=bridge.columns)\n",
    "    for cell in matrix.index:\n",
    "        k = random.sample(tbcids, 1)[0]\n",
    "        frame.loc[cell, 'TBCID'] = k\n",
    "    sheets['scramble'+str(i+1)] = frame\n",
    "with pd.ExcelWriter(fil) as xlsx:\n",
    "    matrix.to_excel(xlsx, sheet_name='Matrix')\n",
    "    bridge.to_excel(xlsx, sheet_name='Bridge')\n",
    "    for tab in sheets:\n",
    "        sheets[tab].to_excel(xlsx, sheet_name=tab)"
   ]
  },
  {
   "cell_type": "markdown",
   "id": "3d1cfd03-14f7-4a5c-92d7-342ffe7a298d",
   "metadata": {},
   "source": [
    "# 3. Calculate P values at every threshold for each mouse"
   ]
  },
  {
   "cell_type": "code",
   "execution_count": 5,
   "id": "dc3d2931-0dd4-41e5-83c9-c482135db69e",
   "metadata": {},
   "outputs": [],
   "source": [
    "def assignCellsToMice(cellset1, cellset2):\n",
    "    result = {}\n",
    "    for cell in cellset1:\n",
    "        mouse = cell.split('-')[-1]\n",
    "        if not mouse in result.keys():\n",
    "            result[mouse] = [[], []]\n",
    "        result[mouse][0].append(cell)\n",
    "    for cell in cellset2:\n",
    "        mouse = cell.split('-')[-1]\n",
    "        if not mouse in result.keys():\n",
    "            result[mouse] = [[], []]\n",
    "        result[mouse][1].append(cell)\n",
    "    return result\n",
    "\n",
    "def calculate(four):\n",
    "    scramble,ordered_values,ce_values,location = four\n",
    "    print('Starting:', location, scramble, '...')\n",
    "    if os.path.exists(os.path.join(location, scramble+'.csv')):\n",
    "        return\n",
    "    frame = pd.DataFrame()\n",
    "    for i in range(len(ordered_values)):\n",
    "        cells1 = ce_values[scramble][ce_values[scramble] <= ordered_values[i]].index\n",
    "        cells2 = ce_values[scramble][ce_values[scramble] > ordered_values[i]].index\n",
    "        cells_in_mice = assignCellsToMice(cells1, cells2)\n",
    "        n = 0\n",
    "        for mouse in cells_in_mice:\n",
    "            locells,hicells = cells_in_mice[mouse]\n",
    "            if len(locells) < 5 or len(hicells) < 5:\n",
    "                continue\n",
    "            n += 1\n",
    "        if n < 4:\n",
    "            continue\n",
    "        for mouse in cells_in_mice:\n",
    "            locells,hicells = cells_in_mice[mouse]\n",
    "            for gid in matrix.columns:\n",
    "                exp1 = matrix.loc[locells, gid].values\n",
    "                exp2 = matrix.loc[hicells, gid].values\n",
    "                pv1 = mannwhitneyu(exp1, exp2, alternative='less')[1]\n",
    "                pv2 = mannwhitneyu(exp1, exp2, alternative='greater')[1]\n",
    "                if np.isnan(pv1) or np.isnan(pv2):\n",
    "                    continue\n",
    "                fc = np.mean(exp1) - np.mean(exp2)\n",
    "                frame.loc[gid, str(i+1)+'.'+mouse+'.fc'] = fc\n",
    "                frame.loc[gid, str(i+1)+'.'+mouse+'.pv1'] = pv1\n",
    "                frame.loc[gid, str(i+1)+'.'+mouse+'.pv2'] = pv2\n",
    "    frame.to_csv(os.path.join(location, scramble+'.csv'), header=True, index=True)\n",
    "\n",
    "def main(tab):\n",
    "    subloc = 'individual-pvalues_' + tab\n",
    "    if not os.path.exists(subloc):\n",
    "        os.mkdir(subloc)\n",
    "    print(tab)\n",
    "    ce = {}\n",
    "    with pd.ExcelFile('inputs/cellular_engraftments.xlsx') as xls:\n",
    "        for mouse in xls.sheet_names:\n",
    "            ce[mouse] = pd.read_excel(xls, sheet_name=mouse, index_col=0, header=0)[tab].dropna()\n",
    "    ce_values = {}\n",
    "    for scramble in scrambles:\n",
    "        ce_values[scramble] = pd.Series(dtype='float64')\n",
    "        for cell in scrambles[scramble].index:\n",
    "            tbc = scrambles[scramble][cell]\n",
    "            mx = ''\n",
    "            mapped = False\n",
    "            for mm in ce.keys():\n",
    "                if tbc in ce[mm].index:\n",
    "                    mapped = True\n",
    "                    mx = mm\n",
    "            if not mapped:\n",
    "                continue\n",
    "            ce_values[scramble][cell] = ce[mx][tbc]\n",
    "    ordered_values = sorted(set(ce_values['Bridge'].values))\n",
    "    \n",
    "    print(' Begin multiprocessing...')\n",
    "    pool = mp.Pool(25)\n",
    "    pool.imap(calculate, [[sc, ordered_values, ce_values, subloc] for sc in scrambles])\n",
    "    pool.close()\n",
    "    pool.join()"
   ]
  },
  {
   "cell_type": "code",
   "execution_count": null,
   "id": "387c10ef-389b-4b0e-95d3-671e212468ba",
   "metadata": {},
   "outputs": [],
   "source": [
    "%%time\n",
    "if __name__ == '__main__':\n",
    "    for behavior in ('Gr', 'B', 'HSC', 'Plus', 'Bias'):\n",
    "        main(tab=behavior)"
   ]
  },
  {
   "cell_type": "markdown",
   "id": "35b51a7d-b666-45ea-acff-e549ecb314d1",
   "metadata": {},
   "source": [
    "# 4. Combine P values from four mice at each position"
   ]
  },
  {
   "cell_type": "code",
   "execution_count": null,
   "id": "8f8a24c4-cf0d-4a43-a1f3-5509e9efe9ea",
   "metadata": {},
   "outputs": [],
   "source": [
    "%%time\n",
    "for loc in os.listdir('.'):\n",
    "    if not loc.startswith('individual-pvalues'):\n",
    "        continue\n",
    "    print(loc)\n",
    "    if 'positioned-p.xlsx' in os.listdir(loc):\n",
    "        continue\n",
    "    frames = {}\n",
    "    for fil in os.listdir(loc):\n",
    "        if not fil.endswith('.csv'):\n",
    "            continue\n",
    "        scramble = fil.split('.')[0]\n",
    "        print('', scramble)\n",
    "        data = pd.read_csv(os.path.join(loc, fil), index_col=0, header=0)\n",
    "        columns = {}\n",
    "        for col in data.columns:\n",
    "            a,b,c = col.split('.')\n",
    "            if not a in columns.keys():\n",
    "                columns[a] = [[],[],[]]\n",
    "            columns[a][('fc','pv1','pv2').index(c)].append(col)\n",
    "        frame = pd.DataFrame()\n",
    "        for gid in data.index:\n",
    "            numbers = data.loc[gid].dropna()\n",
    "            for ii in sorted(columns.keys(), key=lambda x:int(x)):\n",
    "                col1 = [co for co in columns[ii][0] if co in numbers.index]\n",
    "                col2 = [co for co in columns[ii][1] if co in numbers.index]\n",
    "                col3 = [co for co in columns[ii][2] if co in numbers.index]\n",
    "                fcs = list(numbers[col1].values)\n",
    "                pvs1 = list(numbers[col2].values)\n",
    "                pvs2 = list(numbers[col3].values)\n",
    "                if len(fcs) < 4:\n",
    "                    continue\n",
    "                frame.loc[gid, ii+'.cpv1'] = -log(combine_pvalues(pvs1)[1], 10)\n",
    "                frame.loc[gid, ii+'.cpv2'] = -log(combine_pvalues(pvs2)[1], 10)\n",
    "        frames[scramble] = frame\n",
    "    with pd.ExcelWriter(os.path.join(loc, 'positioned-p.xlsx')) as xlsx:\n",
    "        for scramble in frames:\n",
    "            frames[scramble].to_excel(xlsx, sheet_name=scramble)"
   ]
  },
  {
   "cell_type": "markdown",
   "id": "de0a6306-34a5-40d0-9e81-d74338fc0a6d",
   "metadata": {},
   "source": [
    "# 5. Use P values from exp and scrambles to calculate false positive score"
   ]
  },
  {
   "cell_type": "code",
   "execution_count": null,
   "id": "cdac2f1b-2b33-41c6-a9ba-09eba33dcc4b",
   "metadata": {},
   "outputs": [],
   "source": [
    "ALL_FPS = {}\n",
    "for behavior in ('Gr', 'B', 'HSC', 'Plus', 'Bias'):\n",
    "    xlsfile = os.path.join('individual-pvalues_%s'%behavior, 'positioned-p.xlsx')\n",
    "    sheets = {}\n",
    "    with pd.ExcelFile(xlsfile) as xls:\n",
    "        for st in xls.sheet_names:\n",
    "            sheets[st] = pd.read_excel(xls, sheet_name=st)\n",
    "    fps = pd.DataFrame()\n",
    "    maximum = {}\n",
    "    for st in sheets:\n",
    "        if st == 'Bridge':\n",
    "            continue\n",
    "        maximum[st] = {}\n",
    "        for c in sheets[st].columns:\n",
    "            maximum[st][c] = max(sheets[st][c].values)\n",
    "    for gid in sheets['Bridge'].index:\n",
    "        for col in sheets['Bridge'].columns:\n",
    "            exp = sheets['Bridge'].loc[gid, col]\n",
    "            scramble_values = [maximum[st][col] for st in maximum if col in maximum[st]]\n",
    "            fps.loc[gid, col.split('.')[0] + '.fps' + col.split('pv')[1]] = 1.0 * len([v for v in scramble_values if v > exp]) / len(scramble_values)\n",
    "    ALL_FPS[behavior] = fps"
   ]
  },
  {
   "cell_type": "markdown",
   "id": "8e875dce-41b9-4099-a1ca-69f173cf133a",
   "metadata": {},
   "source": [
    "# 6. Count number of FPS that is below certain threshold, thus identify genes"
   ]
  },
  {
   "cell_type": "code",
   "execution_count": null,
   "id": "6aa577e6-278b-40a2-a70c-c32f32653788",
   "metadata": {},
   "outputs": [],
   "source": [
    "count_FPS = {}\n",
    "for behavior in ALL_FPS:\n",
    "    print(behavior, '...')\n",
    "    for i,t in enumerate(('less', 'greater')):\n",
    "        end = 'fps' + str(i+1)\n",
    "        cols = [col for col in ALL_FPS[behavior].columns if col.endswith(end)]\n",
    "        number = pd.DataFrame()\n",
    "        column = ['#FPS < 0.05', '#FPS < 0.1', '#FPS < 0.2', '#all FPS']\n",
    "        for gid in ALL_FPS[behavior].index:\n",
    "            gname = gene_vocabulary['genename'][gene_vocabulary['geneid']==gid].values[0]\n",
    "            scores = ALL_FPS[behavior].loc[gid, cols].values\n",
    "            number.loc[gid, 'genename'] = gname\n",
    "            number.loc[gid, column[0]] = len([v for v in scores if v <= .05])\n",
    "            number.loc[gid, column[1]] = len([v for v in scores if v <= .1])\n",
    "            number.loc[gid, column[2]] = len([v for v in scores if v <= .2])\n",
    "            number.loc[gid, column[3]] = len(scores)\n",
    "            number.loc[gid, 'best.fps'] = min(scores)\n",
    "        number.sort_values(by=column, ascending=False, inplace=True)\n",
    "        count_FPS[behavior + '.' + t] = number\n",
    "with pd.ExcelWriter('Count_FPS.xlsx') as xlsx:\n",
    "    for tab in count_FPS:\n",
    "        count_FPS[tab].to_excel(xlsx, sheet_name=tab, index=True, header=True)"
   ]
  }
 ],
 "metadata": {
  "kernelspec": {
   "display_name": "Lab Python (default)",
   "language": "python",
   "name": "lab"
  },
  "language_info": {
   "codemirror_mode": {
    "name": "ipython",
    "version": 3
   },
   "file_extension": ".py",
   "mimetype": "text/x-python",
   "name": "python",
   "nbconvert_exporter": "python",
   "pygments_lexer": "ipython3",
   "version": "3.9.4"
  }
 },
 "nbformat": 4,
 "nbformat_minor": 5
}
